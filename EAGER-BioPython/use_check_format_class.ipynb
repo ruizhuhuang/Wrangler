{
 "cells": [
  {
   "cell_type": "code",
   "execution_count": 41,
   "metadata": {
    "collapsed": false
   },
   "outputs": [
    {
     "name": "stdout",
     "output_type": "stream",
     "text": [
      "[NbConvertApp] Using existing profile dir: u'/home/03076/rhuang/.ipython/profile_default'\n",
      "[NbConvertApp] Converting notebook check_format_class.ipynb to script\n",
      "[NbConvertApp] Support files will be in check_format_class_files/\n",
      "[NbConvertApp] Loaded template python.tpl\n",
      "[NbConvertApp] Writing 2467 bytes to check_format_class.py\n"
     ]
    },
    {
     "data": {
      "text/plain": [
       "<module 'check_format_class' from 'check_format_class.py'>"
      ]
     },
     "execution_count": 41,
     "metadata": {},
     "output_type": "execute_result"
    }
   ],
   "source": [
    "import check_format_class\n",
    "reload (check_format_class)"
   ]
  },
  {
   "cell_type": "code",
   "execution_count": 42,
   "metadata": {
    "collapsed": false
   },
   "outputs": [],
   "source": [
    "from check_format_class import checkFileFmt"
   ]
  },
  {
   "cell_type": "code",
   "execution_count": 43,
   "metadata": {
    "collapsed": false
   },
   "outputs": [],
   "source": [
    "from check_format_class import biofile"
   ]
  },
  {
   "cell_type": "code",
   "execution_count": 44,
   "metadata": {
    "collapsed": false
   },
   "outputs": [
    {
     "data": {
      "text/plain": [
       "2318"
      ]
     },
     "execution_count": 44,
     "metadata": {},
     "output_type": "execute_result"
    }
   ],
   "source": [
    "biofile(\"B73_all3_R1_val_1_test.fq\", checkFileFmt(\"B73_all3_R1_val_1_test.fq\")).fileSize()"
   ]
  },
  {
   "cell_type": "code",
   "execution_count": 45,
   "metadata": {
    "collapsed": false
   },
   "outputs": [
    {
     "name": "stdout",
     "output_type": "stream",
     "text": [
      "('cor6_6.tab', 'tab', 2883)\n",
      "('B73_all3_R1_val_1_test.fq', 'fastq', 2318)\n",
      "('cor6_6.seqxml', 'seqxml', 5357)\n",
      "('cor6_6.gb', 'gb', 14967)\n",
      "('cor6_6.fasta', 'fasta', 3182)\n",
      "('cor6_6.embl', 'embl', 14183)\n",
      "('cor6_6.imgt', 'embl', 14739)\n"
     ]
    }
   ],
   "source": [
    "fileNames={\"B73_all3_R1_val_1_test.fq\",\"cor6_6.imgt\",\"cor6_6.embl\",\"cor6_6.fasta\",\"cor6_6.gb\",\"cor6_6.seqxml\", \"cor6_6.tab\"}\n",
    "for file in fileNames:\n",
    "    fmt = checkFileFmt(file)\n",
    "    size = biofile(file,fmt).fileSize()\n",
    "    print(file, fmt, size)"
   ]
  },
  {
   "cell_type": "code",
   "execution_count": 46,
   "metadata": {
    "collapsed": false
   },
   "outputs": [],
   "source": [
    "import sys\n",
    "import os\n",
    "sys.path.append('/work/00791/xwj/SeqVerify/py_packages/lib/python2.7/site-packages/')\n",
    "from Bio import SeqIO       \n",
    "    \n",
    "input_handle = open(\"B73_all3_R1_val_1_test.fq\", \"rU\")\n",
    "sequences = SeqIO.parse(input_handle, \"tab\")"
   ]
  },
  {
   "cell_type": "code",
   "execution_count": 40,
   "metadata": {
    "collapsed": false
   },
   "outputs": [
    {
     "ename": "ValueError",
     "evalue": "Each line should have one tab separating the title and sequence, this line has 0 tabs: '@HWI-ST1073:307:D1M73ACXX:7:1101:1495:2019 1:N:0:ACAGTG\\n'",
     "output_type": "error",
     "traceback": [
      "\u001b[1;31m---------------------------------------------------------------------------\u001b[0m",
      "\u001b[1;31mValueError\u001b[0m                                Traceback (most recent call last)",
      "\u001b[1;32m<ipython-input-40-1279bd42e0d5>\u001b[0m in \u001b[0;36m<module>\u001b[1;34m()\u001b[0m\n\u001b[1;32m----> 1\u001b[1;33m \u001b[0mnext\u001b[0m\u001b[1;33m(\u001b[0m\u001b[0msequences\u001b[0m\u001b[1;33m)\u001b[0m\u001b[1;33m\u001b[0m\u001b[0m\n\u001b[0m",
      "\u001b[1;32m/home/03076/rhuang/EAGER-BioPython/Bio/SeqIO/__init__.pyc\u001b[0m in \u001b[0;36mparse\u001b[1;34m(handle, format, alphabet)\u001b[0m\n\u001b[0;32m    600\u001b[0m             \u001b[1;32mraise\u001b[0m \u001b[0mValueError\u001b[0m\u001b[1;33m(\u001b[0m\u001b[1;34m\"Unknown format '%s'\"\u001b[0m \u001b[1;33m%\u001b[0m \u001b[0mformat\u001b[0m\u001b[1;33m)\u001b[0m\u001b[1;33m\u001b[0m\u001b[0m\n\u001b[0;32m    601\u001b[0m         \u001b[1;31m# This imposes some overhead... wait until we drop Python 2.4 to fix it\u001b[0m\u001b[1;33m\u001b[0m\u001b[1;33m\u001b[0m\u001b[0m\n\u001b[1;32m--> 602\u001b[1;33m         \u001b[1;32mfor\u001b[0m \u001b[0mr\u001b[0m \u001b[1;32min\u001b[0m \u001b[0mi\u001b[0m\u001b[1;33m:\u001b[0m\u001b[1;33m\u001b[0m\u001b[0m\n\u001b[0m\u001b[0;32m    603\u001b[0m             \u001b[1;32myield\u001b[0m \u001b[0mr\u001b[0m\u001b[1;33m\u001b[0m\u001b[0m\n\u001b[0;32m    604\u001b[0m \u001b[1;33m\u001b[0m\u001b[0m\n",
      "\u001b[1;32m/home/03076/rhuang/EAGER-BioPython/Bio/SeqIO/TabIO.pyc\u001b[0m in \u001b[0;36mTabIterator\u001b[1;34m(handle, alphabet)\u001b[0m\n\u001b[0;32m     66\u001b[0m             raise ValueError(\"Each line should have one tab separating the\" +\n\u001b[0;32m     67\u001b[0m                              \u001b[1;34m\" title and sequence, this line has %i tabs: %s\"\u001b[0m\u001b[1;33m\u001b[0m\u001b[0m\n\u001b[1;32m---> 68\u001b[1;33m                              % (line.count(\"\\t\"), repr(line)))\n\u001b[0m\u001b[0;32m     69\u001b[0m         \u001b[0mtitle\u001b[0m \u001b[1;33m=\u001b[0m \u001b[0mtitle\u001b[0m\u001b[1;33m.\u001b[0m\u001b[0mstrip\u001b[0m\u001b[1;33m(\u001b[0m\u001b[1;33m)\u001b[0m\u001b[1;33m\u001b[0m\u001b[0m\n\u001b[0;32m     70\u001b[0m         \u001b[0mseq\u001b[0m \u001b[1;33m=\u001b[0m \u001b[0mseq\u001b[0m\u001b[1;33m.\u001b[0m\u001b[0mstrip\u001b[0m\u001b[1;33m(\u001b[0m\u001b[1;33m)\u001b[0m  \u001b[1;31m# removes the trailing new line\u001b[0m\u001b[1;33m\u001b[0m\u001b[0m\n",
      "\u001b[1;31mValueError\u001b[0m: Each line should have one tab separating the title and sequence, this line has 0 tabs: '@HWI-ST1073:307:D1M73ACXX:7:1101:1495:2019 1:N:0:ACAGTG\\n'"
     ]
    }
   ],
   "source": []
  },
  {
   "cell_type": "code",
   "execution_count": null,
   "metadata": {
    "collapsed": true
   },
   "outputs": [],
   "source": []
  }
 ],
 "metadata": {
  "kernelspec": {
   "display_name": "Python 2",
   "language": "python",
   "name": "python2"
  },
  "language_info": {
   "codemirror_mode": {
    "name": "ipython",
    "version": 2
   },
   "file_extension": ".py",
   "mimetype": "text/x-python",
   "name": "python",
   "nbconvert_exporter": "python",
   "pygments_lexer": "ipython2",
   "version": "2.7.9"
  }
 },
 "nbformat": 4,
 "nbformat_minor": 0
}
